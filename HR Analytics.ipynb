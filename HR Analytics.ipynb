{
 "cells": [
  {
   "cell_type": "markdown",
   "metadata": {},
   "source": [
    "# HR Analytics\n",
    "\n",
    "### Objective:\n",
    "1. What are the key drivers that influence the candidate joining/not-joining a company?\n",
    "2. Devising a predictive algorithm to calculate the probability of acceptance of an offer and joining the company after offer acceptance stage."
   ]
  },
  {
   "cell_type": "code",
   "execution_count": null,
   "metadata": {
    "collapsed": false
   },
   "outputs": [],
   "source": [
    "options(warn=-1)\n",
    "library(dplyr)\n",
    "library(lmtest) #For Likelihood ratio test\n",
    "library(car)\n",
    "library(DescTools) #For PseudoR-Square\n",
    "library(ResourceSelection) #For Hosler Lemeshow Test\n",
    "library(survey) #For Wald's Test\n",
    "library(caret)\n",
    "library(Deducer)  #for ROC plot\n",
    "library(ROCR)     #for ROC plot (other way)"
   ]
  },
  {
   "cell_type": "code",
   "execution_count": 2,
   "metadata": {
    "collapsed": false
   },
   "outputs": [
    {
     "name": "stdout",
     "output_type": "stream",
     "text": [
      "'data.frame':\t8995 obs. of  18 variables:\n",
      " $ SLNO                       : int  1 2 3 4 5 6 7 9 11 12 ...\n",
      " $ Candidate.Ref              : int  2110407 2112635 2112838 2115021 2115125 2117167 2119124 2127572 2138169 2143362 ...\n",
      " $ DOJ.Extended               : Factor w/ 2 levels \"No\",\"Yes\": 2 1 1 1 2 2 2 2 1 1 ...\n",
      " $ Duration.to.accept.offer   : int  14 18 3 26 1 17 37 16 1 6 ...\n",
      " $ Notice.period              : int  30 30 45 30 120 30 30 0 30 30 ...\n",
      " $ Offered.band               : Factor w/ 4 levels \"E0\",\"E1\",\"E2\",..: 3 3 3 3 3 2 3 2 2 2 ...\n",
      " $ Pecent.hike.expected.in.CTC: num  -20.8 50 42.8 42.8 42.6 ...\n",
      " $ Percent.hike.offered.in.CTC: num  13.2 320 42.8 42.8 42.6 ...\n",
      " $ Percent.difference.CTC     : num  42.9 180 0 0 0 ...\n",
      " $ Joining.Bonus              : Factor w/ 2 levels \"No\",\"Yes\": 1 1 1 1 1 1 1 1 1 1 ...\n",
      " $ Candidate.relocate.actual  : Factor w/ 2 levels \"No\",\"Yes\": 1 1 1 1 2 1 1 1 1 1 ...\n",
      " $ Gender                     : Factor w/ 2 levels \"Female\",\"Male\": 1 2 2 2 2 2 2 1 1 2 ...\n",
      " $ Candidate.Source           : Factor w/ 3 levels \"Agency\",\"Direct\",..: 1 3 1 3 3 3 3 2 3 3 ...\n",
      " $ Rex.in.Yrs                 : int  7 8 4 4 6 2 7 8 3 3 ...\n",
      " $ LOB                        : Factor w/ 9 levels \"AXON\",\"BFSI\",..: 5 8 8 8 8 8 8 7 2 3 ...\n",
      " $ Location                   : Factor w/ 11 levels \"Ahmedabad\",\"Bangalore\",..: 9 3 9 9 9 9 9 9 5 3 ...\n",
      " $ Age                        : int  34 34 27 34 34 34 32 34 26 34 ...\n",
      " $ Status                     : Factor w/ 2 levels \"Joined\",\"Not Joined\": 1 1 1 1 1 1 1 1 1 1 ...\n"
     ]
    },
    {
     "data": {
      "text/plain": [
       "      SLNO       Candidate.Ref     DOJ.Extended Duration.to.accept.offer\n",
       " Min.   :    1   Min.   :2109586   No :4788     Min.   :  0.00          \n",
       " 1st Qu.: 3208   1st Qu.:2386476   Yes:4207     1st Qu.:  3.00          \n",
       " Median : 5976   Median :2807482                Median : 10.00          \n",
       " Mean   : 5971   Mean   :2843647                Mean   : 21.43          \n",
       " 3rd Qu.: 8739   3rd Qu.:3300060                3rd Qu.: 33.00          \n",
       " Max.   :12333   Max.   :3836076                Max.   :224.00          \n",
       "                                                                        \n",
       " Notice.period    Offered.band Pecent.hike.expected.in.CTC\n",
       " Min.   :  0.00   E0: 211      Min.   :-68.83             \n",
       " 1st Qu.: 30.00   E1:5568      1st Qu.: 27.27             \n",
       " Median : 30.00   E2:2711      Median : 40.00             \n",
       " Mean   : 39.29   E3: 505      Mean   : 43.86             \n",
       " 3rd Qu.: 60.00                3rd Qu.: 53.85             \n",
       " Max.   :120.00                Max.   :359.77             \n",
       "                                                          \n",
       " Percent.hike.offered.in.CTC Percent.difference.CTC Joining.Bonus\n",
       " Min.   :-60.53              Min.   :-67.270        No :8578     \n",
       " 1st Qu.: 22.09              1st Qu.: -8.330        Yes: 417     \n",
       " Median : 36.00              Median :  0.000                     \n",
       " Mean   : 40.66              Mean   : -1.574                     \n",
       " 3rd Qu.: 50.00              3rd Qu.:  0.000                     \n",
       " Max.   :471.43              Max.   :300.000                     \n",
       "                                                                 \n",
       " Candidate.relocate.actual    Gender              Candidate.Source\n",
       " No :7705                  Female:1551   Agency           :2585   \n",
       " Yes:1290                  Male  :7444   Direct           :4801   \n",
       "                                         Employee Referral:1609   \n",
       "                                                                  \n",
       "                                                                  \n",
       "                                                                  \n",
       "                                                                  \n",
       "   Rex.in.Yrs          LOB            Location         Age       \n",
       " Min.   : 0.000   INFRA  :2850   Chennai  :3150   Min.   :20.00  \n",
       " 1st Qu.: 3.000   ERS    :2426   Noida    :2727   1st Qu.:27.00  \n",
       " Median : 4.000   BFSI   :1396   Bangalore:2230   Median :29.00  \n",
       " Mean   : 4.239   ETS    : 691   Hyderabad: 341   Mean   :29.91  \n",
       " 3rd Qu.: 6.000   CSMP   : 579   Mumbai   : 197   3rd Qu.:34.00  \n",
       " Max.   :24.000   AXON   : 568   Gurgaon  : 146   Max.   :60.00  \n",
       "                  (Other): 485   (Other)  : 204                  \n",
       "        Status    \n",
       " Joined    :7313  \n",
       " Not Joined:1682  \n",
       "                  \n",
       "                  \n",
       "                  \n",
       "                  \n",
       "                  "
      ]
     },
     "metadata": {},
     "output_type": "display_data"
    },
    {
     "data": {
      "text/html": [
       "<ol class=list-inline>\n",
       "\t<li>8995</li>\n",
       "\t<li>18</li>\n",
       "</ol>\n"
      ],
      "text/latex": [
       "\\begin{enumerate*}\n",
       "\\item 8995\n",
       "\\item 18\n",
       "\\end{enumerate*}\n"
      ],
      "text/markdown": [
       "1. 8995\n",
       "2. 18\n",
       "\n",
       "\n"
      ],
      "text/plain": [
       "[1] 8995   18"
      ]
     },
     "metadata": {},
     "output_type": "display_data"
    }
   ],
   "source": [
    "data <- read.csv(\"HR_Data_No_Missing_Value.csv\",header = TRUE)\n",
    "str(data)\n",
    "summary(data)\n",
    "dim(data)"
   ]
  },
  {
   "cell_type": "code",
   "execution_count": 3,
   "metadata": {
    "collapsed": false
   },
   "outputs": [
    {
     "data": {
      "text/plain": [
       "      SLNO       Candidate.Ref     DOJ.Extended Duration.to.accept.offer\n",
       " Min.   :    1   Min.   :2109586   No :4788     Min.   :  0.00          \n",
       " 1st Qu.: 3208   1st Qu.:2386476   Yes:4207     1st Qu.:  3.00          \n",
       " Median : 5976   Median :2807482                Median : 10.00          \n",
       " Mean   : 5971   Mean   :2843647                Mean   : 21.43          \n",
       " 3rd Qu.: 8739   3rd Qu.:3300060                3rd Qu.: 33.00          \n",
       " Max.   :12333   Max.   :3836076                Max.   :224.00          \n",
       "                                                                        \n",
       " Notice.period    Offered.band Pecent.hike.expected.in.CTC\n",
       " Min.   :  0.00   E0: 211      Min.   :-68.83             \n",
       " 1st Qu.: 30.00   E1:5568      1st Qu.: 27.27             \n",
       " Median : 30.00   E2:2711      Median : 40.00             \n",
       " Mean   : 39.29   E3: 505      Mean   : 43.86             \n",
       " 3rd Qu.: 60.00                3rd Qu.: 53.85             \n",
       " Max.   :120.00                Max.   :359.77             \n",
       "                                                          \n",
       " Percent.hike.offered.in.CTC Percent.difference.CTC Joining.Bonus\n",
       " Min.   :-60.53              Min.   :-67.270        No :8578     \n",
       " 1st Qu.: 22.09              1st Qu.: -8.330        Yes: 417     \n",
       " Median : 36.00              Median :  0.000                     \n",
       " Mean   : 40.66              Mean   : -1.574                     \n",
       " 3rd Qu.: 50.00              3rd Qu.:  0.000                     \n",
       " Max.   :471.43              Max.   :300.000                     \n",
       "                                                                 \n",
       " Candidate.relocate.actual    Gender              Candidate.Source\n",
       " No :7705                  Female:1551   Agency           :2585   \n",
       " Yes:1290                  Male  :7444   Direct           :4801   \n",
       "                                         Employee Referral:1609   \n",
       "                                                                  \n",
       "                                                                  \n",
       "                                                                  \n",
       "                                                                  \n",
       "   Rex.in.Yrs          LOB            Location         Age       \n",
       " Min.   : 0.000   INFRA  :2850   Chennai  :3150   Min.   :20.00  \n",
       " 1st Qu.: 3.000   ERS    :2426   Noida    :2727   1st Qu.:27.00  \n",
       " Median : 4.000   BFSI   :1396   Bangalore:2230   Median :29.00  \n",
       " Mean   : 4.239   ETS    : 691   Hyderabad: 341   Mean   :29.91  \n",
       " 3rd Qu.: 6.000   CSMP   : 579   Mumbai   : 197   3rd Qu.:34.00  \n",
       " Max.   :24.000   AXON   : 568   Gurgaon  : 146   Max.   :60.00  \n",
       "                  (Other): 485   (Other)  : 204                  \n",
       "        Status    \n",
       " Not Joined:1682  \n",
       " Joined    :7313  \n",
       "                  \n",
       "                  \n",
       "                  \n",
       "                  \n",
       "                  "
      ]
     },
     "metadata": {},
     "output_type": "display_data"
    }
   ],
   "source": [
    "#By default, the base category/reference category selected is ordered alphabetically. In this data set, Status has two classes (Joined/Not Joined). Since 'J' appears first compared to 'N' in alphabet sequence, So Joined will be marked as the base category.\n",
    "#Changing the base category to \"Not Joined\" using Relevel()\n",
    "\n",
    "data$Status <- relevel(data$Status , ref = \"Not Joined\")\n",
    "summary(data)"
   ]
  },
  {
   "cell_type": "code",
   "execution_count": 4,
   "metadata": {
    "collapsed": false
   },
   "outputs": [
    {
     "data": {
      "text/html": [
       "<ol class=list-inline>\n",
       "\t<li>7197</li>\n",
       "\t<li>18</li>\n",
       "</ol>\n"
      ],
      "text/latex": [
       "\\begin{enumerate*}\n",
       "\\item 7197\n",
       "\\item 18\n",
       "\\end{enumerate*}\n"
      ],
      "text/markdown": [
       "1. 7197\n",
       "2. 18\n",
       "\n",
       "\n"
      ],
      "text/plain": [
       "[1] 7197   18"
      ]
     },
     "metadata": {},
     "output_type": "display_data"
    },
    {
     "data": {
      "text/html": [
       "<ol class=list-inline>\n",
       "\t<li>1798</li>\n",
       "\t<li>18</li>\n",
       "</ol>\n"
      ],
      "text/latex": [
       "\\begin{enumerate*}\n",
       "\\item 1798\n",
       "\\item 18\n",
       "\\end{enumerate*}\n"
      ],
      "text/markdown": [
       "1. 1798\n",
       "2. 18\n",
       "\n",
       "\n"
      ],
      "text/plain": [
       "[1] 1798   18"
      ]
     },
     "metadata": {},
     "output_type": "display_data"
    }
   ],
   "source": [
    "#Create Training and Test Data-sets:\n",
    "set.seed(\"2341\")\n",
    "trainIndex <- createDataPartition(data$Status,p=0.8,list = FALSE)\n",
    "data.train <- data[trainIndex,]\n",
    "data.test <- data[-trainIndex,]\n",
    "dim(data.train)\n",
    "dim(data.test)"
   ]
  },
  {
   "cell_type": "markdown",
   "metadata": {},
   "source": [
    "## Stage 4: Estimating Regression Model and assessing overall model fit.\n",
    "This stage includes:\n",
    "\n",
    "4.1 Select method for specifying the Regression Model. This is done using Forward Selection - Backward Elimination\n",
    "4.2 Assessing Overall Model Fit\n",
    "    * Statistical Measures of Overall Model Fit:\n",
    "        * Likelihood Ratio Test\n",
    "        * Pseudo R-Square\n",
    "        * Hosmer Lemeshow Goodness of Fit\n",
    "    * Statistical Measures of Individual Variable:\n",
    "        *Wald's Test\n",
    "    * Model Acceptance:\n",
    "        * Area under ROC Curve"
   ]
  },
  {
   "cell_type": "code",
   "execution_count": 5,
   "metadata": {
    "collapsed": false
   },
   "outputs": [
    {
     "data": {
      "text/plain": [
       "\n",
       "Call:\n",
       "glm(formula = Status ~ Candidate.relocate.actual + Notice.period + \n",
       "    LOB + Candidate.Source + Offered.band + Location + Age + \n",
       "    Percent.hike.offered.in.CTC + DOJ.Extended + Joining.Bonus + \n",
       "    Gender, family = binomial, data = data.train)\n",
       "\n",
       "Deviance Residuals: \n",
       "     Min        1Q    Median        3Q       Max  \n",
       "-2.68552   0.00012   0.50498   0.70347   1.55437  \n",
       "\n",
       "Coefficients:\n",
       "                                    Estimate Std. Error z value Pr(>|z|)    \n",
       "(Intercept)                        1.503e+01  2.545e+03   0.006 0.995288    \n",
       "Candidate.relocate.actualYes       1.728e+01  1.943e+02   0.089 0.929100    \n",
       "Notice.period                     -2.078e-02  1.521e-03 -13.661  < 2e-16 ***\n",
       "LOBBFSI                            5.113e-01  1.575e-01   3.247 0.001167 ** \n",
       "LOBCSMP                            4.018e-01  1.812e-01   2.218 0.026555 *  \n",
       "LOBEAS                            -2.473e-01  1.954e-01  -1.266 0.205632    \n",
       "LOBERS                             3.485e-01  1.489e-01   2.341 0.019233 *  \n",
       "LOBETS                             6.002e-01  1.772e-01   3.387 0.000708 ***\n",
       "LOBHealthcare                      6.546e-01  2.997e-01   2.184 0.028968 *  \n",
       "LOBINFRA                           9.189e-01  1.565e-01   5.873 4.29e-09 ***\n",
       "LOBMMS                             1.796e+01  1.760e+03   0.010 0.991858    \n",
       "Candidate.SourceDirect             3.268e-01  7.493e-02   4.361 1.29e-05 ***\n",
       "Candidate.SourceEmployee Referral  6.583e-01  1.087e-01   6.055 1.40e-09 ***\n",
       "Offered.bandE1                     1.207e+00  2.077e-01   5.813 6.14e-09 ***\n",
       "Offered.bandE2                     9.716e-01  2.154e-01   4.511 6.44e-06 ***\n",
       "Offered.bandE3                     1.163e+00  2.676e-01   4.348 1.38e-05 ***\n",
       "LocationBangalore                 -1.599e+01  2.545e+03  -0.006 0.994986    \n",
       "LocationChennai                   -1.614e+01  2.545e+03  -0.006 0.994941    \n",
       "LocationCochin                    -1.658e+01  2.545e+03  -0.007 0.994801    \n",
       "LocationGurgaon                   -1.614e+01  2.545e+03  -0.006 0.994938    \n",
       "LocationHyderabad                 -1.594e+01  2.545e+03  -0.006 0.995004    \n",
       "LocationKolkata                   -1.606e+01  2.545e+03  -0.006 0.994965    \n",
       "LocationMumbai                    -1.544e+01  2.545e+03  -0.006 0.995158    \n",
       "LocationNoida                     -1.562e+01  2.545e+03  -0.006 0.995103    \n",
       "LocationOthers                     4.994e-01  3.277e+03   0.000 0.999878    \n",
       "LocationPune                      -1.601e+01  2.545e+03  -0.006 0.994981    \n",
       "Age                                3.860e-02  9.754e-03   3.957 7.59e-05 ***\n",
       "Percent.hike.offered.in.CTC        2.686e-03  1.042e-03   2.577 0.009952 ** \n",
       "DOJ.ExtendedYes                    1.737e-01  6.849e-02   2.536 0.011226 *  \n",
       "Joining.BonusYes                  -3.292e-01  1.553e-01  -2.120 0.033992 *  \n",
       "GenderMale                        -1.720e-01  8.869e-02  -1.939 0.052485 .  \n",
       "---\n",
       "Signif. codes:  0 '***' 0.001 '**' 0.01 '*' 0.05 '.' 0.1 ' ' 1\n",
       "\n",
       "(Dispersion parameter for binomial family taken to be 1)\n",
       "\n",
       "    Null deviance: 6936.1  on 7196  degrees of freedom\n",
       "Residual deviance: 5971.1  on 7166  degrees of freedom\n",
       "AIC: 6033.1\n",
       "\n",
       "Number of Fisher Scoring iterations: 17\n"
      ]
     },
     "metadata": {},
     "output_type": "display_data"
    }
   ],
   "source": [
    "#Null Model\n",
    "noModel <- glm(Status ~ 1,data = data.train , family = binomial)\n",
    "\n",
    "#Full Model\n",
    "lgGlmModelFull = glm(Status ~ .\n",
    "                     , data = data.train , family = binomial)\n",
    "\n",
    "#Stepwise - Forward selection backward elimination\n",
    "fit.stepwise <- step(noModel, list(lower = formula(noModel),\n",
    "                                         upper = formula(lgGlmModelFull)), direction = \"both\",trace = 0)\n",
    "\n",
    "summary(fit.stepwise)"
   ]
  },
  {
   "cell_type": "code",
   "execution_count": 6,
   "metadata": {
    "collapsed": false
   },
   "outputs": [
    {
     "data": {
      "text/html": [
       "<table>\n",
       "<thead><tr><th scope=col>Resid. Df</th><th scope=col>Resid. Dev</th><th scope=col>Df</th><th scope=col>Deviance</th><th scope=col>Pr(&gt;Chi)</th></tr></thead>\n",
       "<tbody>\n",
       "\t<tr><td>7160     </td><td>5968.796 </td><td>NA       </td><td>       NA</td><td>       NA</td></tr>\n",
       "\t<tr><td>7166     </td><td>5971.065 </td><td>-6       </td><td>-2.269392</td><td>0.8933311</td></tr>\n",
       "</tbody>\n",
       "</table>\n"
      ],
      "text/latex": [
       "\\begin{tabular}{r|lllll}\n",
       " Resid. Df & Resid. Dev & Df & Deviance & Pr(>Chi)\\\\\n",
       "\\hline\n",
       "\t 7160      & 5968.796  & NA        &        NA &        NA\\\\\n",
       "\t 7166      & 5971.065  & -6        & -2.269392 & 0.8933311\\\\\n",
       "\\end{tabular}\n"
      ],
      "text/markdown": [
       "\n",
       "Resid. Df | Resid. Dev | Df | Deviance | Pr(>Chi) | \n",
       "|---|---|\n",
       "| 7160      | 5968.796  | NA        |        NA |        NA | \n",
       "| 7166      | 5971.065  | -6        | -2.269392 | 0.8933311 | \n",
       "\n",
       "\n"
      ],
      "text/plain": [
       "  Resid. Df Resid. Dev Df Deviance  Pr(>Chi) \n",
       "1 7160      5968.796   NA        NA        NA\n",
       "2 7166      5971.065   -6 -2.269392 0.8933311"
      ]
     },
     "metadata": {},
     "output_type": "display_data"
    }
   ],
   "source": [
    "#Log Likelihood Ratio Test using anova()\n",
    "anova(lgGlmModelFull,fit.stepwise,test =\"Chisq\")\n",
    "#Since the p-value is greater than 0.05, we are unable to reject the Null Hypothesis, and accept the reduced model from stepwise regression"
   ]
  },
  {
   "cell_type": "code",
   "execution_count": 7,
   "metadata": {
    "collapsed": false
   },
   "outputs": [
    {
     "data": {
      "text/html": [
       "<dl class=dl-horizontal>\n",
       "\t<dt>McFadden</dt>\n",
       "\t\t<dd>0.139135858217984</dd>\n",
       "\t<dt>McFaddenAdj</dt>\n",
       "\t\t<dd>0.130197155600891</dd>\n",
       "\t<dt>CoxSnell</dt>\n",
       "\t\t<dd>0.125490907191659</dd>\n",
       "\t<dt>Nagelkerke</dt>\n",
       "\t\t<dd>0.202881991897535</dd>\n",
       "\t<dt>AldrichNelson</dt>\n",
       "\t\t<dd>0.039163003842352</dd>\n",
       "\t<dt>VeallZimmermann</dt>\n",
       "\t\t<dd>0.172849883910336</dd>\n",
       "\t<dt>Effron</dt>\n",
       "\t\t<dd>0.119773542443721</dd>\n",
       "\t<dt>McKelveyZavoina</dt>\n",
       "\t\t<dd>0.920509805431226</dd>\n",
       "\t<dt>Tjur</dt>\n",
       "\t\t<dd>0.11851457021918</dd>\n",
       "\t<dt>AIC</dt>\n",
       "\t\t<dd>6033.06527388284</dd>\n",
       "\t<dt>BIC</dt>\n",
       "\t\t<dd>6246.38927997958</dd>\n",
       "\t<dt>logLik</dt>\n",
       "\t\t<dd>-2985.53263694142</dd>\n",
       "\t<dt>logLik0</dt>\n",
       "\t\t<dd>-3468.06481073921</dd>\n",
       "\t<dt>G2</dt>\n",
       "\t\t<dd>965.064347595577</dd>\n",
       "</dl>\n"
      ],
      "text/latex": [
       "\\begin{description*}\n",
       "\\item[McFadden] 0.139135858217984\n",
       "\\item[McFaddenAdj] 0.130197155600891\n",
       "\\item[CoxSnell] 0.125490907191659\n",
       "\\item[Nagelkerke] 0.202881991897535\n",
       "\\item[AldrichNelson] 0.039163003842352\n",
       "\\item[VeallZimmermann] 0.172849883910336\n",
       "\\item[Effron] 0.119773542443721\n",
       "\\item[McKelveyZavoina] 0.920509805431226\n",
       "\\item[Tjur] 0.11851457021918\n",
       "\\item[AIC] 6033.06527388284\n",
       "\\item[BIC] 6246.38927997958\n",
       "\\item[logLik] -2985.53263694142\n",
       "\\item[logLik0] -3468.06481073921\n",
       "\\item[G2] 965.064347595577\n",
       "\\end{description*}\n"
      ],
      "text/markdown": [
       "McFadden\n",
       ":   0.139135858217984McFaddenAdj\n",
       ":   0.130197155600891CoxSnell\n",
       ":   0.125490907191659Nagelkerke\n",
       ":   0.202881991897535AldrichNelson\n",
       ":   0.039163003842352VeallZimmermann\n",
       ":   0.172849883910336Effron\n",
       ":   0.119773542443721McKelveyZavoina\n",
       ":   0.920509805431226Tjur\n",
       ":   0.11851457021918AIC\n",
       ":   6033.06527388284BIC\n",
       ":   6246.38927997958logLik\n",
       ":   -2985.53263694142logLik0\n",
       ":   -3468.06481073921G2\n",
       ":   965.064347595577\n",
       "\n"
      ],
      "text/plain": [
       "       McFadden     McFaddenAdj        CoxSnell      Nagelkerke   AldrichNelson \n",
       "      0.1391359       0.1301972       0.1254909       0.2028820       0.0391630 \n",
       "VeallZimmermann          Effron McKelveyZavoina            Tjur             AIC \n",
       "      0.1728499       0.1197735       0.9205098       0.1185146    6033.0652739 \n",
       "            BIC          logLik         logLik0              G2 \n",
       "   6246.3892800   -2985.5326369   -3468.0648107     965.0643476 "
      ]
     },
     "metadata": {},
     "output_type": "display_data"
    }
   ],
   "source": [
    "#Pseudo R-Square measures\n",
    "PseudoR2(fit.stepwise , which = \"all\")"
   ]
  },
  {
   "cell_type": "code",
   "execution_count": 8,
   "metadata": {
    "collapsed": false
   },
   "outputs": [
    {
     "data": {
      "text/plain": [
       "\n",
       "\tHosmer and Lemeshow goodness of fit (GOF) test\n",
       "\n",
       "data:  fit.stepwise$y, fitted(fit.stepwise)\n",
       "X-squared = 7.7415, df = 8, p-value = 0.4591\n"
      ]
     },
     "metadata": {},
     "output_type": "display_data"
    }
   ],
   "source": [
    "#Hosmer Lemeshow Goodness of Fit\n",
    "hoslem.test(fit.stepwise$y,fitted(fit.stepwise))\n",
    "#Since the p-value is greater than 0.05, we are unable to reject the Null Hypothesis, and accept the reduced model from stepwise regression"
   ]
  },
  {
   "cell_type": "code",
   "execution_count": 9,
   "metadata": {
    "collapsed": false
   },
   "outputs": [
    {
     "data": {
      "text/plain": [
       "Wald test for Candidate.relocate.actual\n",
       " in glm(formula = Status ~ Candidate.relocate.actual + Notice.period + \n",
       "    LOB + Candidate.Source + Offered.band + Location + Age + \n",
       "    Percent.hike.offered.in.CTC + DOJ.Extended + Joining.Bonus + \n",
       "    Gender, family = binomial, data = data.train)\n",
       "F =  0.007916936  on  1  and  7166  df: p= 0.9291 "
      ]
     },
     "metadata": {},
     "output_type": "display_data"
    },
    {
     "data": {
      "text/plain": [
       "Wald test for Notice.period\n",
       " in glm(formula = Status ~ Candidate.relocate.actual + Notice.period + \n",
       "    LOB + Candidate.Source + Offered.band + Location + Age + \n",
       "    Percent.hike.offered.in.CTC + DOJ.Extended + Joining.Bonus + \n",
       "    Gender, family = binomial, data = data.train)\n",
       "F =  186.6218  on  1  and  7166  df: p= < 2.22e-16 "
      ]
     },
     "metadata": {},
     "output_type": "display_data"
    },
    {
     "data": {
      "text/plain": [
       "Wald test for LOB\n",
       " in glm(formula = Status ~ Candidate.relocate.actual + Notice.period + \n",
       "    LOB + Candidate.Source + Offered.band + Location + Age + \n",
       "    Percent.hike.offered.in.CTC + DOJ.Extended + Joining.Bonus + \n",
       "    Gender, family = binomial, data = data.train)\n",
       "F =  8.682801  on  8  and  7166  df: p= 7.2317e-12 "
      ]
     },
     "metadata": {},
     "output_type": "display_data"
    },
    {
     "data": {
      "text/plain": [
       "Wald test for Candidate.Source\n",
       " in glm(formula = Status ~ Candidate.relocate.actual + Notice.period + \n",
       "    LOB + Candidate.Source + Offered.band + Location + Age + \n",
       "    Percent.hike.offered.in.CTC + DOJ.Extended + Joining.Bonus + \n",
       "    Gender, family = binomial, data = data.train)\n",
       "F =  20.27701  on  2  and  7166  df: p= 1.6544e-09 "
      ]
     },
     "metadata": {},
     "output_type": "display_data"
    },
    {
     "data": {
      "text/plain": [
       "Wald test for Offered.band\n",
       " in glm(formula = Status ~ Candidate.relocate.actual + Notice.period + \n",
       "    LOB + Candidate.Source + Offered.band + Location + Age + \n",
       "    Percent.hike.offered.in.CTC + DOJ.Extended + Joining.Bonus + \n",
       "    Gender, family = binomial, data = data.train)\n",
       "F =  13.07836  on  3  and  7166  df: p= 1.6284e-08 "
      ]
     },
     "metadata": {},
     "output_type": "display_data"
    },
    {
     "data": {
      "text/plain": [
       "Wald test for Location\n",
       " in glm(formula = Status ~ Candidate.relocate.actual + Notice.period + \n",
       "    LOB + Candidate.Source + Offered.band + Location + Age + \n",
       "    Percent.hike.offered.in.CTC + DOJ.Extended + Joining.Bonus + \n",
       "    Gender, family = binomial, data = data.train)\n",
       "F =  3.469044  on  10  and  7166  df: p= 0.0001446 "
      ]
     },
     "metadata": {},
     "output_type": "display_data"
    },
    {
     "data": {
      "text/plain": [
       "Wald test for Age\n",
       " in glm(formula = Status ~ Candidate.relocate.actual + Notice.period + \n",
       "    LOB + Candidate.Source + Offered.band + Location + Age + \n",
       "    Percent.hike.offered.in.CTC + DOJ.Extended + Joining.Bonus + \n",
       "    Gender, family = binomial, data = data.train)\n",
       "F =  15.65867  on  1  and  7166  df: p= 7.6597e-05 "
      ]
     },
     "metadata": {},
     "output_type": "display_data"
    },
    {
     "data": {
      "text/plain": [
       "Wald test for Percent.hike.offered.in.CTC\n",
       " in glm(formula = Status ~ Candidate.relocate.actual + Notice.period + \n",
       "    LOB + Candidate.Source + Offered.band + Location + Age + \n",
       "    Percent.hike.offered.in.CTC + DOJ.Extended + Joining.Bonus + \n",
       "    Gender, family = binomial, data = data.train)\n",
       "F =  6.643489  on  1  and  7166  df: p= 0.0099717 "
      ]
     },
     "metadata": {},
     "output_type": "display_data"
    },
    {
     "data": {
      "text/plain": [
       "Wald test for Age\n",
       " in glm(formula = Status ~ Candidate.relocate.actual + Notice.period + \n",
       "    LOB + Candidate.Source + Offered.band + Location + Age + \n",
       "    Percent.hike.offered.in.CTC + DOJ.Extended + Joining.Bonus + \n",
       "    Gender, family = binomial, data = data.train)\n",
       "F =  15.65867  on  1  and  7166  df: p= 7.6597e-05 "
      ]
     },
     "metadata": {},
     "output_type": "display_data"
    },
    {
     "data": {
      "text/plain": [
       "Wald test for DOJ.Extended\n",
       " in glm(formula = Status ~ Candidate.relocate.actual + Notice.period + \n",
       "    LOB + Candidate.Source + Offered.band + Location + Age + \n",
       "    Percent.hike.offered.in.CTC + DOJ.Extended + Joining.Bonus + \n",
       "    Gender, family = binomial, data = data.train)\n",
       "F =  6.429198  on  1  and  7166  df: p= 0.011247 "
      ]
     },
     "metadata": {},
     "output_type": "display_data"
    },
    {
     "data": {
      "text/plain": [
       "Wald test for Joining.Bonus\n",
       " in glm(formula = Status ~ Candidate.relocate.actual + Notice.period + \n",
       "    LOB + Candidate.Source + Offered.band + Location + Age + \n",
       "    Percent.hike.offered.in.CTC + DOJ.Extended + Joining.Bonus + \n",
       "    Gender, family = binomial, data = data.train)\n",
       "F =  4.495086  on  1  and  7166  df: p= 0.034027 "
      ]
     },
     "metadata": {},
     "output_type": "display_data"
    },
    {
     "data": {
      "text/plain": [
       "Wald test for Gender\n",
       " in glm(formula = Status ~ Candidate.relocate.actual + Notice.period + \n",
       "    LOB + Candidate.Source + Offered.band + Location + Age + \n",
       "    Percent.hike.offered.in.CTC + DOJ.Extended + Joining.Bonus + \n",
       "    Gender, family = binomial, data = data.train)\n",
       "F =  3.760255  on  1  and  7166  df: p= 0.052524 "
      ]
     },
     "metadata": {},
     "output_type": "display_data"
    }
   ],
   "source": [
    "#Wald's Test for Significance of individual Parameters:\n",
    "regTermTest(fit.stepwise,\"Candidate.relocate.actual\")\n",
    "regTermTest(fit.stepwise,\"Notice.period\")\n",
    "regTermTest(fit.stepwise,\"LOB\")\n",
    "regTermTest(fit.stepwise,\"Candidate.Source\")\n",
    "regTermTest(fit.stepwise,\"Offered.band\")\n",
    "regTermTest(fit.stepwise,\"Location\")\n",
    "regTermTest(fit.stepwise,\"Age\")\n",
    "regTermTest(fit.stepwise,\"Percent.hike.offered.in.CTC\")\n",
    "regTermTest(fit.stepwise,\"Age\")\n",
    "regTermTest(fit.stepwise,\"DOJ.Extended\")\n",
    "regTermTest(fit.stepwise,\"Joining.Bonus\")\n",
    "regTermTest(fit.stepwise,\"Gender\")"
   ]
  },
  {
   "cell_type": "markdown",
   "metadata": {},
   "source": [
    "Wald's test returns the result that the individual predictors: Candidate.relocate.actual & Gender are not significant.\n",
    "So, we remove them from the regression model and compare the Log Likelihood Ratios"
   ]
  },
  {
   "cell_type": "code",
   "execution_count": 10,
   "metadata": {
    "collapsed": false
   },
   "outputs": [
    {
     "data": {
      "text/plain": [
       "\n",
       "Call:\n",
       "glm(formula = Status ~ Notice.period + LOB + Candidate.Source + \n",
       "    Offered.band + Location + Age + Percent.hike.offered.in.CTC + \n",
       "    DOJ.Extended + Joining.Bonus, family = binomial, data = data.train)\n",
       "\n",
       "Deviance Residuals: \n",
       "    Min       1Q   Median       3Q      Max  \n",
       "-2.7451   0.3498   0.5276   0.6845   1.4810  \n",
       "\n",
       "Coefficients:\n",
       "                                    Estimate Std. Error z value Pr(>|z|)    \n",
       "(Intercept)                        11.424637 388.362885   0.029 0.976532    \n",
       "Notice.period                      -0.020518   0.001443 -14.221  < 2e-16 ***\n",
       "LOBBFSI                             0.267105   0.152142   1.756 0.079151 .  \n",
       "LOBCSMP                             0.223772   0.174462   1.283 0.199618    \n",
       "LOBEAS                             -0.289829   0.186495  -1.554 0.120164    \n",
       "LOBERS                              0.261956   0.142499   1.838 0.066019 .  \n",
       "LOBETS                              0.492559   0.171098   2.879 0.003992 ** \n",
       "LOBHealthcare                       0.340819   0.295987   1.151 0.249541    \n",
       "LOBINFRA                            0.760016   0.150696   5.043 4.57e-07 ***\n",
       "LOBMMS                             13.598060 238.436971   0.057 0.954521    \n",
       "Candidate.SourceDirect              0.324363   0.072981   4.444 8.81e-06 ***\n",
       "Candidate.SourceEmployee Referral   0.655346   0.106533   6.152 7.67e-10 ***\n",
       "Offered.bandE1                      1.074999   0.199982   5.375 7.64e-08 ***\n",
       "Offered.bandE2                      0.760501   0.206519   3.682 0.000231 ***\n",
       "Offered.bandE3                      0.963084   0.257896   3.734 0.000188 ***\n",
       "LocationBangalore                 -12.446644 388.362733  -0.032 0.974433    \n",
       "LocationChennai                   -12.466106 388.362729  -0.032 0.974393    \n",
       "LocationCochin                    -13.149910 388.364334  -0.034 0.972989    \n",
       "LocationGurgaon                   -12.586743 388.362794  -0.032 0.974145    \n",
       "LocationHyderabad                 -12.421871 388.362757  -0.032 0.974484    \n",
       "LocationKolkata                   -12.563997 388.362804  -0.032 0.974192    \n",
       "LocationMumbai                    -11.898936 388.362827  -0.031 0.975558    \n",
       "LocationNoida                     -11.972304 388.362727  -0.031 0.975407    \n",
       "LocationOthers                      0.173042 480.480486   0.000 0.999713    \n",
       "LocationPune                      -12.362648 388.362946  -0.032 0.974605    \n",
       "Age                                 0.048380   0.009514   5.085 3.67e-07 ***\n",
       "Percent.hike.offered.in.CTC         0.003171   0.001029   3.083 0.002049 ** \n",
       "DOJ.ExtendedYes                     0.180716   0.066869   2.703 0.006881 ** \n",
       "Joining.BonusYes                   -0.062086   0.145587  -0.426 0.669778    \n",
       "---\n",
       "Signif. codes:  0 '***' 0.001 '**' 0.01 '*' 0.05 '.' 0.1 ' ' 1\n",
       "\n",
       "(Dispersion parameter for binomial family taken to be 1)\n",
       "\n",
       "    Null deviance: 6936.1  on 7196  degrees of freedom\n",
       "Residual deviance: 6426.2  on 7168  degrees of freedom\n",
       "AIC: 6484.2\n",
       "\n",
       "Number of Fisher Scoring iterations: 13\n"
      ]
     },
     "metadata": {},
     "output_type": "display_data"
    },
    {
     "data": {
      "text/html": [
       "<table>\n",
       "<thead><tr><th scope=col>Resid. Df</th><th scope=col>Resid. Dev</th><th scope=col>Df</th><th scope=col>Deviance</th><th scope=col>Pr(&gt;Chi)</th></tr></thead>\n",
       "<tbody>\n",
       "\t<tr><td>7166        </td><td>5971.065    </td><td>NA          </td><td>       NA   </td><td>          NA</td></tr>\n",
       "\t<tr><td>7168        </td><td>6426.232    </td><td>-2          </td><td>-455.1672   </td><td>1.451128e-99</td></tr>\n",
       "</tbody>\n",
       "</table>\n"
      ],
      "text/latex": [
       "\\begin{tabular}{r|lllll}\n",
       " Resid. Df & Resid. Dev & Df & Deviance & Pr(>Chi)\\\\\n",
       "\\hline\n",
       "\t 7166         & 5971.065     & NA           &        NA    &           NA\\\\\n",
       "\t 7168         & 6426.232     & -2           & -455.1672    & 1.451128e-99\\\\\n",
       "\\end{tabular}\n"
      ],
      "text/markdown": [
       "\n",
       "Resid. Df | Resid. Dev | Df | Deviance | Pr(>Chi) | \n",
       "|---|---|\n",
       "| 7166         | 5971.065     | NA           |        NA    |           NA | \n",
       "| 7168         | 6426.232     | -2           | -455.1672    | 1.451128e-99 | \n",
       "\n",
       "\n"
      ],
      "text/plain": [
       "  Resid. Df Resid. Dev Df Deviance  Pr(>Chi)    \n",
       "1 7166      5971.065   NA        NA           NA\n",
       "2 7168      6426.232   -2 -455.1672 1.451128e-99"
      ]
     },
     "metadata": {},
     "output_type": "display_data"
    }
   ],
   "source": [
    "fit.reduced <- glm(formula = Status ~  Notice.period + \n",
    "    LOB + Candidate.Source + Offered.band + Location + Age + \n",
    "    Percent.hike.offered.in.CTC + DOJ.Extended + Joining.Bonus , family = binomial, data = data.train)\n",
    "summary(fit.reduced)\n",
    "anova(fit.stepwise , fit.reduced , test =\"Chisq\")"
   ]
  },
  {
   "cell_type": "markdown",
   "metadata": {},
   "source": [
    "Log-likelihood ratio test is significant. Thus the two models are not similar.\n",
    "We cannot remove the variables. We proceed with the model from the Stepwise regression"
   ]
  },
  {
   "cell_type": "code",
   "execution_count": null,
   "metadata": {
    "collapsed": false
   },
   "outputs": [],
   "source": [
    "#Area uder ROC Curve:\n",
    "options(repr.plot.width=4, repr.plot.height=4)\n",
    "rocplot(fit.stepwise)\n",
    "rocplot(fit.reduced)"
   ]
  },
  {
   "cell_type": "code",
   "execution_count": null,
   "metadata": {
    "collapsed": false
   },
   "outputs": [],
   "source": [
    "#Computing the Cut-off Probability using Youden's Index:\n",
    "\n",
    "#creating empty vectors to store the results. \n",
    "msclaf.cost <- c()\n",
    "youden.index <- c()\n",
    "cutoff <- c()\n",
    "P11 <- c() #correct classification of positive as positive\n",
    "P00 <- c() #correct classification of negative as negative\n",
    "P10 <- c() #misclassification of positive class to negative class\n",
    "P01 <- c() #misclassification of negative class to positive class\n",
    "\n",
    "n <- length(data.train$Status)   #Sample Size\n",
    "pred = predict.glm(fit.stepwise, data.train , type = \"response\")  #Predicted Probability as per Model\n",
    "\n",
    "for (i in seq(0.05, 1, .05)) {\n",
    "  predicted.y = rep(\"Joined\", n)     #Assigning all predicted value as \"No\"\n",
    "  predicted.y[pred > i] = \"Not Joined\"  #If predicted value greater than cut-off probability then changing the predicted to \"Yes\"\n",
    "  tbl <- table(data.train$Status, predicted.y) #Creates Classification table based on the Cut-off probability i\n",
    "  if ( i <= 1) {\n",
    "    \n",
    "    P10[20*i] <- tbl[2]/(tbl[2] + tbl[4])    \n",
    "    P11[20*i] <- tbl[4]/(tbl[2] + tbl[4])   #Sensitivity\n",
    "    P01[20*i] <- tbl[3]/(tbl[1] + tbl[3])    \n",
    "    P00[20*i] <- tbl[1]/(tbl[1] + tbl[3])   #Specificity\n",
    "    \n",
    "    cutoff[20*i] <- i\n",
    "    youden.index[20*i] <- P11[20*i] + P00[20*i] - 1\n",
    "  }\n",
    "}\n",
    "youden.table <- cbind(cutoff,P10,P01,P11,P00, youden.index)\n",
    "\n",
    "#Display the Youden's Index for each cut-off probability:\n",
    "youden.table"
   ]
  },
  {
   "cell_type": "markdown",
   "metadata": {},
   "source": [
    "### Accuracy of the model\n"
   ]
  },
  {
   "cell_type": "code",
   "execution_count": null,
   "metadata": {
    "collapsed": false
   },
   "outputs": [],
   "source": [
    "i = 0.8 #Update with the Optimal Cut-off Probability\n",
    "\n",
    "#Computing the Accuracy Manually:\n",
    "n <- length(data.train$Status)   #Sample Size\n",
    "pred = predict.glm(fit.stepwise, data.train , type = \"response\")  #Predicted Probability as per Model\n",
    "predicted.y = rep(\"Joined\", n)     #Assigning all predicted value as \"No\"\n",
    "predicted.y[pred > i] = \"Not Joined\"  #If predicted value greater than cut-off probability then changing the predicted to \"Yes\"\n",
    "accuracy <- table(predicted.y , data.train$Status) #Creates Classification table based on the Cut-off probability i\n",
    "accuracy\n",
    "sum(diag(accuracy))/sum(accuracy)\n",
    "\n",
    "#Computing the Accuracy using the Confusion Matrix in Car Package:\n",
    "confusionMatrix(data=predicted.y, data.train$Status)"
   ]
  },
  {
   "cell_type": "markdown",
   "metadata": {},
   "source": [
    "## Running the Model on Test Data"
   ]
  },
  {
   "cell_type": "code",
   "execution_count": null,
   "metadata": {
    "collapsed": false
   },
   "outputs": [],
   "source": [
    "i = 0.8 #Update with the Optimal Cut-off Probability\n",
    "\n",
    "#Computing the Accuracy Manually:\n",
    "n <- length(data.test$Status)   #Sample Size\n",
    "pred = predict.glm(fit.stepwise, data.test , type = \"response\")  #Predicted Probability as per Model\n",
    "predicted.y = rep(\"Joined\", n)     #Assigning all predicted value as \"No\"\n",
    "predicted.y[pred > i] = \"Not Joined\"  #If predicted value greater than cut-off probability then changing the predicted to \"Yes\"\n",
    "accuracy <- table(predicted.y , data.test$Status) #Creates Classification table based on the Cut-off probability i\n",
    "accuracy\n",
    "sum(diag(accuracy))/sum(accuracy)\n",
    "\n",
    "#Computing the Accuracy using the Confusion Matrix in Car Package:\n",
    "confusionMatrix(data=predicted.y, data.test$Status)"
   ]
  },
  {
   "cell_type": "code",
   "execution_count": null,
   "metadata": {
    "collapsed": false
   },
   "outputs": [],
   "source": [
    "#Assesing Variable Importance:\n",
    "varImp(fit.stepwise)"
   ]
  },
  {
   "cell_type": "code",
   "execution_count": null,
   "metadata": {
    "collapsed": true
   },
   "outputs": [],
   "source": []
  }
 ],
 "metadata": {
  "kernelspec": {
   "display_name": "R",
   "language": "R",
   "name": "ir"
  },
  "language_info": {
   "codemirror_mode": "r",
   "file_extension": ".r",
   "mimetype": "text/x-r-source",
   "name": "R",
   "pygments_lexer": "r",
   "version": "3.4.0"
  }
 },
 "nbformat": 4,
 "nbformat_minor": 2
}
